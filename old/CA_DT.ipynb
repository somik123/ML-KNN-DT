{
 "cells": [
  {
   "cell_type": "code",
   "execution_count": null,
   "metadata": {},
   "outputs": [],
   "source": [
    "import numpy as np\n",
    "import pandas as pd\n",
    "from sklearn.model_selection import train_test_split as tts\n",
    "from sklearn.metrics import accuracy_score as acc\n",
    "import seaborn as sb\n",
    "import matplotlib.pyplot as plt\n",
    "from sklearn import tree\n",
    "from graphviz import Source as src\n",
    "from sklearn.tree import DecisionTreeClassifier as dtc"
   ]
  },
  {
   "cell_type": "code",
   "execution_count": null,
   "metadata": {},
   "outputs": [],
   "source": [
    "# Read CSV file\n",
    "csv_data = pd.read_csv(\"RAM_Benchmarks_megalist.csv\")\n",
    "\n",
    "# The columns we re interested in\n",
    "interested_cols = [\"gen\",\"latency\",\"readUncached\",\"write\",\"price\"]\n",
    "\n",
    "# Create dataset with the columns\n",
    "dataset = csv_data[interested_cols]\n",
    "\n",
    "# Remove empty columns\n",
    "for col in interested_cols:\n",
    "    dataset = dataset[dataset[col].notna()]\n",
    "\n",
    "# reset index cause we removed columns\n",
    "dataset.reset_index(inplace=True, drop=True)\n",
    "\n",
    "# Change \"gen\" from string to numeric method\n",
    "def change_gen_data(x):\n",
    "    if x==\"DDR5\":\n",
    "        return 3\n",
    "    elif x==\"DDR4\":\n",
    "        return 2\n",
    "    elif x==\"DDR3\":\n",
    "        return 1\n",
    "    elif x==\"DDR2\":\n",
    "        return 0\n",
    "# apply method\n",
    "dataset.loc[:,\"gen\"] = dataset.loc[:,\"gen\"].apply(change_gen_data)\n",
    "\n",
    "# Change string to float\n",
    "def change_to_float(x):\n",
    "    return float(x.replace(',', ''))\n",
    "# apply method\n",
    "dataset.loc[:,\"readUncached\"] = dataset.loc[:,\"readUncached\"].apply(change_to_float)\n",
    "dataset.loc[:,\"write\"] = dataset.loc[:,\"write\"].apply(change_to_float)\n",
    "\n",
    "dataset.head()"
   ]
  },
  {
   "cell_type": "code",
   "execution_count": null,
   "metadata": {},
   "outputs": [],
   "source": [
    "dataset"
   ]
  },
  {
   "cell_type": "code",
   "execution_count": null,
   "metadata": {},
   "outputs": [],
   "source": [
    "# pair plot to check the data to ensure something did not go missing....\n",
    "sb.pairplot(dataset,hue=\"gen\")\n",
    "plt.show()"
   ]
  },
  {
   "cell_type": "code",
   "execution_count": null,
   "metadata": {},
   "outputs": [],
   "source": [
    "# x contains eveything but gen\n",
    "x_data = dataset.iloc[:,1:]\n",
    "# y contains gen only\n",
    "y_data = dataset.iloc[:,0]\n",
    "\n",
    "# randomize x and y test and train data\n",
    "x_train, x_test, y_train, y_test = tts(x_data,y_data, random_state=204)\n",
    "\n",
    "\n",
    "print(x_train)\n",
    "print()\n",
    "print(x_test)\n",
    "print()\n",
    "print(y_train)\n",
    "print()\n",
    "print(y_test)"
   ]
  },
  {
   "cell_type": "code",
   "execution_count": null,
   "metadata": {},
   "outputs": [],
   "source": [
    "# generate a DecisionTreeClassifier model and train it with train data\n",
    "dt = dtc(max_depth = 4, random_state = 204)\n",
    "dt.fit(x_train, y_train)"
   ]
  },
  {
   "cell_type": "code",
   "execution_count": null,
   "metadata": {},
   "outputs": [],
   "source": [
    "# predict y with x_test data\n",
    "y_pred = dt.predict(x_test)"
   ]
  },
  {
   "cell_type": "code",
   "execution_count": null,
   "metadata": {},
   "outputs": [],
   "source": [
    "# print accuracy\n",
    "acc(y_test, y_pred)"
   ]
  },
  {
   "cell_type": "code",
   "execution_count": null,
   "metadata": {},
   "outputs": [],
   "source": [
    "# Draw out the decission tree\n",
    "src(tree.export_graphviz(dt, out_file=None, class_names=[\"DDR2\", \"DDR3\",\"DDR4\",\"DDR5\"], feature_names= x_train.columns)) # display the tree, with no output file"
   ]
  },
  {
   "cell_type": "code",
   "execution_count": null,
   "metadata": {},
   "outputs": [],
   "source": [
    "max_accuracy = 0\n",
    "temp = \"\"\n",
    "\n",
    "for rand in range(0,300):\n",
    "    x_train, x_test, y_train, y_test = tts(x_data,y_data, random_state=rand)\n",
    "\n",
    "    for n in range(1,30):\n",
    "        dt = dtc(max_depth = n, random_state = rand)\n",
    "        dt.fit(x_train, y_train)\n",
    "        y_pred = dt.predict(x_test)\n",
    "        accuracy = acc(y_test,y_pred)\n",
    "        if(max_accuracy < accuracy):\n",
    "            max_accuracy = accuracy\n",
    "            temp = \"When rand: :\", rand,\" n: \",n, \" acc: \", accuracy\n",
    "        print(\"When rand: :\", rand,\" n: \",n, \" acc: \", accuracy)\n",
    "    \n",
    "print()\n",
    "print()\n",
    "print(temp)"
   ]
  }
 ],
 "metadata": {
  "interpreter": {
   "hash": "cf9d7967877c25027dd75774ea69b662f5f008de378852bf2a89f240906b1c9b"
  },
  "kernelspec": {
   "display_name": "Python 3.8.13 ('py3_vEnv')",
   "language": "python",
   "name": "python3"
  },
  "language_info": {
   "codemirror_mode": {
    "name": "ipython",
    "version": 3
   },
   "file_extension": ".py",
   "mimetype": "text/x-python",
   "name": "python",
   "nbconvert_exporter": "python",
   "pygments_lexer": "ipython3",
   "version": "3.8.13"
  },
  "orig_nbformat": 4
 },
 "nbformat": 4,
 "nbformat_minor": 2
}
